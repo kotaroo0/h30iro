{
 "cells": [
  {
   "cell_type": "markdown",
   "metadata": {},
   "source": [
    "# 第2回 ベクトル空間モデル\n",
    "\n",
    "この演習ページでは，ベクトル空間モデルに基づく情報検索モデルについて説明します．具体的には，文書から特徴ベクトルへの変換方法，TF-IDFの計算方法，コサイン類似度による文書ランキングについて，その実装例を説明します．第2回演習の最終目的は，ある与えられた文書コーパスに対して，TF-IDFで重み付けされた特徴ベクトルによる文書ランキングが実装できるようになることです．"
   ]
  },
  {
   "cell_type": "markdown",
   "metadata": {},
   "source": [
    "## ライブラリ\n",
    "この回の演習では，以下のライブラリを使用します．　\n",
    "- [numpy, scipy](http://www.numpy.org/)\n",
    "  + Pythonで科学技術計算を行うための基礎的なライブラリ．\n",
    "- [gensim](https://radimrehurek.com/gensim/index.html)\n",
    "  + トピックモデリング（LDA）やword2vecなどを手軽に利用するためのPythonライブラリ．\n",
    "- [nltk (natural language toolkit)](http://www.nltk.org/)\n",
    "  + 自然言語処理に関するpythonライブラリです．この演習ではストップワードのために用います．ほかにも，単語のステミングやトークナイズなどの機能をはじめ，品詞推定，依存関係分析など自然言語処理のあらゆるメソッドが用意されています．\n",
    "- [pandas](http://pandas.pydata.org/)\n",
    "  + pythonでデータ分析をするためのフレームワークです．この演習ではデータをプロットするために用いています．"
   ]
  },
  {
   "cell_type": "markdown",
   "metadata": {},
   "source": [
    "### ライブラリのインストール\n",
    "\n",
    "本演習では，gensimとnltkを利用します．\n",
    "まず，ターミナルを開き以下のコマンドでgensimをインストールしておいてください．\n",
    "\n",
    "```\n",
    "conda install gensim\n",
    "```\n",
    "\n",
    "次に，pythonを起動し，以下のコマンドから，nltkのcorpusからstopwordsをインストールしておいてください．\n",
    "\n",
    "```\n",
    "python \n",
    ">>> import nltk\n",
    ">>> nltk.download()\n",
    "```"
   ]
  },
  {
   "cell_type": "markdown",
   "metadata": {},
   "source": [
    "---"
   ]
  },
  {
   "cell_type": "markdown",
   "metadata": {},
   "source": [
    "## 第2回目の演習の内容\n",
    "``h29iro/data/`` に `sample.corpus` というファイルを置いています． このファイルには改行区切りで3件の短い文書が保存されています．この演習では，このファイルに対してTF-IDFで重み付けされた特徴ベクトルを作成し，コサイン類似度によるランキングを行います．"
   ]
  },
  {
   "cell_type": "markdown",
   "metadata": {},
   "source": [
    "## 1. 文書の読み込みとトークナイズ\n",
    "まずは，`sample.corpus`を読み込み，各文書のBoW表現を抽出します．"
   ]
  },
  {
   "cell_type": "code",
   "execution_count": 1,
   "metadata": {},
   "outputs": [
    {
     "name": "stdout",
     "output_type": "stream",
     "text": [
      "showing info https://raw.githubusercontent.com/nltk/nltk_data/gh-pages/index.xml\n"
     ]
    }
   ],
   "source": [
    "import numpy as np\n",
    "import gensim\n",
    "from nltk.corpus import stopwords\n",
    "import nltk\n",
    "nltk.download()\n",
    "import pandas as pd\n",
    "np.set_printoptions(precision=4)"
   ]
  },
  {
   "cell_type": "code",
   "execution_count": 3,
   "metadata": {
    "scrolled": true
   },
   "outputs": [
    {
     "data": {
      "text/plain": [
       "u'%.3f'"
      ]
     },
     "execution_count": 3,
     "metadata": {},
     "output_type": "execute_result"
    }
   ],
   "source": [
    "# 小数点3ケタまで表示\n",
    "%precision 3"
   ]
  },
  {
   "cell_type": "code",
   "execution_count": 4,
   "metadata": {},
   "outputs": [
    {
     "data": {
      "text/plain": [
       "['I live in kyoto and kyoto is a beautiful city',\n",
       " 'kyoto was the captial of japan and is in kansai and kansai is in japan',\n",
       " 'kyoto is in kansai and kyoto is historical city']"
      ]
     },
     "execution_count": 4,
     "metadata": {},
     "output_type": "execute_result"
    }
   ],
   "source": [
    "with open(\"../data/sample.corpus\", \"r\") as f:  #sample.corpusの読み込み\n",
    "    text = f.read().strip().split(\"\\n\") #sample.corpusのテキストデータを取得し，それを改行で分割\n",
    "text"
   ]
  },
  {
   "cell_type": "markdown",
   "metadata": {},
   "source": [
    "３件の文書があることが分かりますね．次に，文章をトークン（単語）に分割します．今回は簡単のため単純にスペース区切りによって単語に分割します．"
   ]
  },
  {
   "cell_type": "code",
   "execution_count": 5,
   "metadata": {
    "scrolled": false
   },
   "outputs": [
    {
     "name": "stdout",
     "output_type": "stream",
     "text": [
      "('d1=', ['i', 'live', 'in', 'kyoto', 'and', 'kyoto', 'is', 'a', 'beautiful', 'city'])\n",
      "('d2=', ['kyoto', 'was', 'the', 'captial', 'of', 'japan', 'and', 'is', 'in', 'kansai', 'and', 'kansai', 'is', 'in', 'japan'])\n",
      "('d3=', ['kyoto', 'is', 'in', 'kansai', 'and', 'kyoto', 'is', 'historical', 'city'])\n"
     ]
    }
   ],
   "source": [
    "raw_corpus = [d.lower().split() for d in text] #文章を小文字に変換して単語に分割する\n",
    "print(\"d1=\" , raw_corpus[0])\n",
    "print(\"d2=\" , raw_corpus[1])\n",
    "print(\"d3=\" , raw_corpus[2])"
   ]
  },
  {
   "cell_type": "markdown",
   "metadata": {},
   "source": [
    "文が単語の集合に変換されました．しかし，この単語集合には \"i\" や \"of\" などのストップワードが含まれています．そこで，ストップワードを除去してみましょう．\n",
    "\n",
    "ストップワードのリストはネットで探せば様々な種類が見つかります．ここでは，nltkのstopwordsモジュールを利用します．"
   ]
  },
  {
   "cell_type": "code",
   "execution_count": 6,
   "metadata": {
    "scrolled": true
   },
   "outputs": [
    {
     "name": "stdout",
     "output_type": "stream",
     "text": [
      "('d1=', ['live', 'kyoto', 'kyoto', 'beautiful', 'city'])\n",
      "('d2=', ['kyoto', 'captial', 'japan', 'kansai', 'kansai', 'japan'])\n",
      "('d3=', ['kyoto', 'kansai', 'kyoto', 'historical', 'city'])\n"
     ]
    }
   ],
   "source": [
    "# stopwords.words(\"english\")に含まれていない単語のみ抽出\n",
    "corpus = [list(filter(lambda word: word not in stopwords.words(\"english\"), x)) for x in raw_corpus] \n",
    "print(\"d1=\" , corpus[0])\n",
    "print(\"d2=\" , corpus[1])\n",
    "print(\"d3=\" , corpus[2])"
   ]
  },
  {
   "cell_type": "markdown",
   "metadata": {},
   "source": [
    "## 2. 特徴ベクトルの生成\n",
    "次に文書の特徴ベクトルを生成します．ここからの流れは，以下の通りになります．\n",
    "\n",
    "1. 文書集合（corpus）から 単語->単語ID の辞書 (dictionary) を作成する．\n",
    "2. 作成された辞書を基に，文書を (単語ID，出現回数）の集合 (id_corpus) として表現する．\n",
    "3. id_corpusからTfidfModelを用いて，TF-IDFで重み付けされた特徴ベクトルを作成する．\n",
    "\n",
    "まずは，文書集合（コーパス）から単語->単語ID の辞書 (dictionary) を作成します．\n"
   ]
  },
  {
   "cell_type": "code",
   "execution_count": 8,
   "metadata": {
    "scrolled": false
   },
   "outputs": [
    {
     "data": {
      "text/plain": [
       "{u'beautiful': 0,\n",
       " u'captial': 4,\n",
       " u'city': 1,\n",
       " u'historical': 7,\n",
       " u'japan': 5,\n",
       " u'kansai': 6,\n",
       " u'kyoto': 2,\n",
       " u'live': 3}"
      ]
     },
     "execution_count": 8,
     "metadata": {},
     "output_type": "execute_result"
    }
   ],
   "source": [
    "dictionary = gensim.corpora.Dictionary(corpus) #コーパスを与えて，単語->IDの辞書を作成する\n",
    "dictionary.token2id #作成された辞書の中身"
   ]
  },
  {
   "cell_type": "markdown",
   "metadata": {},
   "source": [
    "このdictionaryを用いて，文書の単語をID化します．"
   ]
  },
  {
   "cell_type": "code",
   "execution_count": 9,
   "metadata": {},
   "outputs": [
    {
     "data": {
      "text/plain": [
       "[[(0, 1), (1, 1), (2, 2), (3, 1)],\n",
       " [(2, 1), (4, 1), (5, 2), (6, 2)],\n",
       " [(1, 1), (2, 2), (6, 1), (7, 1)]]"
      ]
     },
     "execution_count": 9,
     "metadata": {},
     "output_type": "execute_result"
    }
   ],
   "source": [
    "id_corpus = [dictionary.doc2bow(document) for document in corpus]\n",
    "id_corpus"
   ]
  },
  {
   "cell_type": "markdown",
   "metadata": {},
   "source": [
    "作成されたid_corpusは，たとえば，1件目の文書は"
   ]
  },
  {
   "cell_type": "code",
   "execution_count": 10,
   "metadata": {},
   "outputs": [
    {
     "data": {
      "text/plain": [
       "[(0, 1), (1, 1), (2, 2), (3, 1)]"
      ]
     },
     "execution_count": 10,
     "metadata": {},
     "output_type": "execute_result"
    }
   ],
   "source": [
    "id_corpus[0]"
   ]
  },
  {
   "cell_type": "markdown",
   "metadata": {},
   "source": [
    "という内容になっています．たとえば，(0,2)というデータは\n",
    "```\n",
    "単語ID0の単語が２回出現\n",
    "```\n",
    "という内容を表しています． つまり，単語の出現頻度(term frequency)のみで文書を特徴ベクトル化したことになります．なお，これをnumpyのベクトルとして抽出したければ，corpus2denseメソッドを用います．"
   ]
  },
  {
   "cell_type": "code",
   "execution_count": 11,
   "metadata": {
    "scrolled": true
   },
   "outputs": [
    {
     "name": "stdout",
     "output_type": "stream",
     "text": [
      "('d1=', array([1., 1., 2., 1., 0., 0., 0., 0.], dtype=float32))\n",
      "('d2=', array([0., 0., 1., 0., 1., 2., 2., 0.], dtype=float32))\n",
      "('d3=', array([0., 1., 2., 0., 0., 0., 1., 1.], dtype=float32))\n"
     ]
    }
   ],
   "source": [
    "tf_vectors = gensim.matutils.corpus2dense(id_corpus, len(dictionary)).T\n",
    "print(\"d1=\", tf_vectors[0])\n",
    "print(\"d2=\", tf_vectors[1])\n",
    "print(\"d3=\", tf_vectors[2])"
   ]
  },
  {
   "cell_type": "markdown",
   "metadata": {},
   "source": [
    "今回用意したコーパスは語彙数が8しかありませんが，実際のケースでは，この特徴ベクトルは非常に疎になることが容易に想像つくと思います．\n",
    "\n",
    "さて，id_corpusからTFIDFで重み付けされた特徴ベクトルを得るには， models.TfidfModel メソッドを用います．"
   ]
  },
  {
   "cell_type": "code",
   "execution_count": 12,
   "metadata": {
    "collapsed": true
   },
   "outputs": [],
   "source": [
    "tfidf_model = gensim.models.TfidfModel(id_corpus, normalize=False) #normalize=Trueにすると，文書長によってtfを正規化する\n",
    "tfidf_corpus = tfidf_model[id_corpus] #id_corpusをtfidfで重み付けされたものに変換"
   ]
  },
  {
   "cell_type": "markdown",
   "metadata": {},
   "source": [
    "これでTF-IDFで重み付けされた特徴ベクトルが得られました．たとえば，1件目の文書$d_1$に対する特徴ベクトル${\\mathbf d}_1$の中身を見てみます．"
   ]
  },
  {
   "cell_type": "code",
   "execution_count": 13,
   "metadata": {
    "scrolled": false
   },
   "outputs": [
    {
     "data": {
      "text/plain": [
       "[(0, 1.585), (1, 0.585), (3, 1.585)]"
      ]
     },
     "execution_count": 13,
     "metadata": {},
     "output_type": "execute_result"
    }
   ],
   "source": [
    "tfidf_corpus[0]"
   ]
  },
  {
   "cell_type": "markdown",
   "metadata": {},
   "source": [
    "TFIDFの値は，(単語ID，重み） として得られています．単語IDを実際の単語に変換するにはdictionaryを通します．"
   ]
  },
  {
   "cell_type": "code",
   "execution_count": 14,
   "metadata": {
    "scrolled": true
   },
   "outputs": [
    {
     "data": {
      "text/plain": [
       "[(u'beautiful', 1.585), (u'city', 0.585), (u'live', 1.585)]"
      ]
     },
     "execution_count": 14,
     "metadata": {},
     "output_type": "execute_result"
    }
   ],
   "source": [
    "[(dictionary[x[0]], x[1]) for x in tfidf_corpus[0]]#dictionary[token_id]でアクセスすると実際の単語が返ってくる"
   ]
  },
  {
   "cell_type": "markdown",
   "metadata": {},
   "source": [
    "同様に2件目の文書$d_2$についても見てみます．"
   ]
  },
  {
   "cell_type": "code",
   "execution_count": 15,
   "metadata": {},
   "outputs": [
    {
     "data": {
      "text/plain": [
       "[(u'captial', 1.585), (u'japan', 3.170), (u'kansai', 1.170)]"
      ]
     },
     "execution_count": 15,
     "metadata": {},
     "output_type": "execute_result"
    }
   ],
   "source": [
    "doc2 = [(dictionary[x[0]], x[1]) for x in tfidf_corpus[1]]\n",
    "doc2"
   ]
  },
  {
   "cell_type": "markdown",
   "metadata": {},
   "source": [
    "たとえば， 文書$d_{2}$における`japan`のTFIDF値が本当に正しいのか検証してみましょう．\n",
    "\n",
    "$tfidf_{d_2, japan} = tf_{d_2, japan} \\log \\frac{N}{df_{japan}}$ ,\n",
    "\n",
    "いま， $tf_{d_2, japan} = 2$, $N = 3$, $df_{japan}$ = 1 ですので，\n",
    "\n",
    "$tfidf_{d_2, japan} = 2 \\log 3 = 3.170$\n",
    "となり，gensimで得られた結果と一致していることが分かります．"
   ]
  },
  {
   "cell_type": "code",
   "execution_count": 28,
   "metadata": {},
   "outputs": [
    {
     "data": {
      "text/plain": [
       "3.170"
      ]
     },
     "execution_count": 28,
     "metadata": {},
     "output_type": "execute_result"
    }
   ],
   "source": [
    "import math\n",
    "2* math.log(3,2) #2log3の計算方法"
   ]
  },
  {
   "cell_type": "markdown",
   "metadata": {},
   "source": [
    "# 3. コサイン類似度\n",
    "それでは，コサイン類似度による文書ランキングを行ってみましょう．\n",
    "\n",
    "クエリと文書の類似度を測る前に，まずは文書同士のコサイン類似度を計算してみます． コサイン類似度の計算はgensimでも良いのですが，ここでは，いったんnumpyのベクトルを取得して，そのベクトルに対してコサイン類似度を計算してみます．"
   ]
  },
  {
   "cell_type": "code",
   "execution_count": 29,
   "metadata": {},
   "outputs": [
    {
     "name": "stdout",
     "output_type": "stream",
     "text": [
      "('d1=', array([1.585, 0.585, 0.   , 1.585, 0.   , 0.   , 0.   , 0.   ],\n",
      "      dtype=float32))\n",
      "('d2=', array([0.   , 0.   , 0.   , 0.   , 1.585, 3.17 , 1.17 , 0.   ],\n",
      "      dtype=float32))\n",
      "('d3=', array([0.   , 0.585, 0.   , 0.   , 0.   , 0.   , 0.585, 1.585],\n",
      "      dtype=float32))\n"
     ]
    }
   ],
   "source": [
    "# 各文書のtfidfベクトルを取得\n",
    "tfidf_vectors = gensim.matutils.corpus2dense(tfidf_corpus, len(dictionary)).T\n",
    "print (\"d1=\", tfidf_vectors[0])\n",
    "print (\"d2=\", tfidf_vectors[1])\n",
    "print (\"d3=\", tfidf_vectors[2])"
   ]
  },
  {
   "cell_type": "code",
   "execution_count": 30,
   "metadata": {
    "collapsed": true
   },
   "outputs": [],
   "source": [
    "# コサイン類似度を計算する関数を用意\n",
    "from scipy.spatial.distance import cosine\n",
    "def cosine_sim(v1, v2):\n",
    "    #scipyのcosineは類似度ではなく距離関数のため， 1-コサイン距離　とすることで，コサイン類似度に変換する\n",
    "    return 1.0 - cosine(v1, v2) "
   ]
  },
  {
   "cell_type": "code",
   "execution_count": 31,
   "metadata": {},
   "outputs": [
    {
     "name": "stdout",
     "output_type": "stream",
     "text": [
      "('sim(d1, d2)=', 0.0)\n",
      "('sim(d2, d3)=', 0.10256209224462509)\n",
      "('sim(d1, d3)=', 0.08261892944574356)\n"
     ]
    }
   ],
   "source": [
    "# 各文書間のコサイン類似度を計算してみる\n",
    "print (\"sim(d1, d2)=\", cosine_sim(tfidf_vectors[0], tfidf_vectors[1]))\n",
    "print (\"sim(d2, d3)=\", cosine_sim(tfidf_vectors[1], tfidf_vectors[2]))\n",
    "print (\"sim(d1, d3)=\", cosine_sim(tfidf_vectors[0], tfidf_vectors[2]))"
   ]
  },
  {
   "cell_type": "markdown",
   "metadata": {},
   "source": [
    "それでは，クエリを特徴ベクトルに変換し，クエリと文書のコサイン類似度を求めていきましょう．"
   ]
  },
  {
   "cell_type": "code",
   "execution_count": 32,
   "metadata": {
    "scrolled": true
   },
   "outputs": [
    {
     "name": "stdout",
     "output_type": "stream",
     "text": [
      "('q=', array([0.   , 0.   , 0.   , 0.   , 0.   , 1.585, 0.585, 0.   ],\n",
      "      dtype=float32))\n"
     ]
    }
   ],
   "source": [
    "q = {\"kansai\", \"japan\"}\n",
    "tfidf_q = tfidf_model[dictionary.doc2bow(q)]  #クエリをtfidfベクトルに変換\n",
    "query_vector = gensim.matutils.corpus2dense([tfidf_q], len(dictionary)).T[0] #numpyのベクトルに変換\n",
    "print (\"q=\", query_vector)"
   ]
  },
  {
   "cell_type": "code",
   "execution_count": 33,
   "metadata": {},
   "outputs": [
    {
     "name": "stdout",
     "output_type": "stream",
     "text": [
      "[(u'japan', 1.5849625007211563), (u'kansai', 0.5849625007211562)]\n"
     ]
    }
   ],
   "source": [
    "print([(dictionary[x[0]], x[1]) for x in tfidf_q])"
   ]
  },
  {
   "cell_type": "code",
   "execution_count": 34,
   "metadata": {
    "scrolled": true
   },
   "outputs": [
    {
     "name": "stdout",
     "output_type": "stream",
     "text": [
      "('sim(q, d1) = ', 0.0)\n",
      "('sim(q, d2) = ', 0.9053466320037842)\n",
      "('sim(q, d3) = ', 0.1132848858833313)\n"
     ]
    }
   ],
   "source": [
    "print (\"sim(q, d1) = \", cosine_sim(query_vector, tfidf_vectors[0]))\n",
    "print (\"sim(q, d2) = \", cosine_sim(query_vector, tfidf_vectors[1]))\n",
    "print (\"sim(q, d3) = \", cosine_sim(query_vector, tfidf_vectors[2]))"
   ]
  },
  {
   "cell_type": "markdown",
   "metadata": {},
   "source": [
    "この結果から，q={\"kansai\", \"japan\"} というクエリに対しては，$d_2,d_3, d_1$の順でランク付けされることが分かります．"
   ]
  },
  {
   "cell_type": "markdown",
   "metadata": {},
   "source": [
    "## 4. ベクトル空間の可視化\n",
    "\n",
    "最後に，得られた特徴ベクトルを可視化してみましょう．特徴ベクトルそのものは多次元（今回の場合は8次元）ですが，これを次元削減の手法を使って，2次元空間に射影してみます．今回は，`LSI`（Latent Semantic Indexing)という手法を用いて，特徴ベクトルを2次元空間に落とし込みます．LSIについては，講義で触れるかもしれません（講義の進み方次第）．"
   ]
  },
  {
   "cell_type": "code",
   "execution_count": 35,
   "metadata": {
    "collapsed": true
   },
   "outputs": [],
   "source": [
    "import matplotlib.pylab as plt"
   ]
  },
  {
   "cell_type": "code",
   "execution_count": 36,
   "metadata": {
    "collapsed": true
   },
   "outputs": [],
   "source": [
    "%matplotlib inline"
   ]
  },
  {
   "cell_type": "code",
   "execution_count": 37,
   "metadata": {
    "scrolled": true
   },
   "outputs": [
    {
     "name": "stdout",
     "output_type": "stream",
     "text": [
      "('d1=', array([-0.009, -2.302], dtype=float32))\n",
      "('d2=', array([-3.73 ,  0.028], dtype=float32))\n",
      "('d3=', array([-0.237, -0.346], dtype=float32))\n",
      "('q=', array([-1.53 ,  0.007], dtype=float32))\n"
     ]
    }
   ],
   "source": [
    "# LSIにより特徴ベクトルを2次元に落とし込む\n",
    "lsi = gensim.models.LsiModel(tfidf_corpus, id2word=dictionary, num_topics=2)\n",
    "lsi_corpus = lsi[tfidf_corpus]\n",
    "lsi_vectors = gensim.matutils.corpus2dense(lsi_corpus, 2).T\n",
    "print(\"d1=\", lsi_vectors[0])\n",
    "print(\"d2=\", lsi_vectors[1])\n",
    "print(\"d3=\", lsi_vectors[2])\n",
    "query_lsi_corpus = lsi[[tfidf_q]] \n",
    "query_lsi_vector = gensim.matutils.corpus2dense(query_lsi_corpus, 2).T[0]\n",
    "print (\"q=\", query_lsi_vector)"
   ]
  },
  {
   "cell_type": "code",
   "execution_count": 38,
   "metadata": {
    "scrolled": true
   },
   "outputs": [
    {
     "data": {
      "text/html": [
       "<div>\n",
       "<style>\n",
       "    .dataframe thead tr:only-child th {\n",
       "        text-align: right;\n",
       "    }\n",
       "\n",
       "    .dataframe thead th {\n",
       "        text-align: left;\n",
       "    }\n",
       "\n",
       "    .dataframe tbody tr th {\n",
       "        vertical-align: top;\n",
       "    }\n",
       "</style>\n",
       "<table border=\"1\" class=\"dataframe\">\n",
       "  <thead>\n",
       "    <tr style=\"text-align: right;\">\n",
       "      <th></th>\n",
       "      <th>z1</th>\n",
       "      <th>z2</th>\n",
       "    </tr>\n",
       "  </thead>\n",
       "  <tbody>\n",
       "    <tr>\n",
       "      <th>d1</th>\n",
       "      <td>-0.009431</td>\n",
       "      <td>-2.301599</td>\n",
       "    </tr>\n",
       "    <tr>\n",
       "      <th>d2</th>\n",
       "      <td>-3.730471</td>\n",
       "      <td>0.027818</td>\n",
       "    </tr>\n",
       "    <tr>\n",
       "      <th>d3</th>\n",
       "      <td>-0.237208</td>\n",
       "      <td>-0.345971</td>\n",
       "    </tr>\n",
       "    <tr>\n",
       "      <th>q</th>\n",
       "      <td>-1.529893</td>\n",
       "      <td>0.007460</td>\n",
       "    </tr>\n",
       "  </tbody>\n",
       "</table>\n",
       "</div>"
      ],
      "text/plain": [
       "          z1        z2\n",
       "d1 -0.009431 -2.301599\n",
       "d2 -3.730471  0.027818\n",
       "d3 -0.237208 -0.345971\n",
       "q  -1.529893  0.007460"
      ]
     },
     "execution_count": 38,
     "metadata": {},
     "output_type": "execute_result"
    }
   ],
   "source": [
    "# 散布図にプロットするため，DataFrameに変換\n",
    "axis_names = [\"z1\", \"z2\"]\n",
    "doc_names = [\"d1\", \"d2\", \"d3\", \"q\"]\n",
    "df = pd.DataFrame(np.r_[lsi_vectors, [query_lsi_vector]], \n",
    "                  columns=axis_names, index=doc_names) # np.r_ は行列同士の連結\n",
    "df"
   ]
  },
  {
   "cell_type": "code",
   "execution_count": 39,
   "metadata": {
    "scrolled": true
   },
   "outputs": [
    {
     "data": {
      "image/png": "[encoded data removed]",
      "text/plain": [
       "<matplotlib.figure.Figure at 0x1a2751f350>"
      ]
     },
     "metadata": {},
     "output_type": "display_data"
    }
   ],
   "source": [
    "# 散布図をプロット\n",
    "fig, ax = plt.subplots()\n",
    "df.plot.scatter(x=\"z1\", y=\"z2\", ax=ax)\n",
    "ax.axvline(x=0, lw=2, color='red') #x軸とy軸に線を引く\n",
    "ax.axhline(y=0, lw=2, color='red') \n",
    "ax.grid(True)\n",
    "for k, v in df.iterrows():\n",
    "    ax.annotate(k, xy=(v[0]+0.05,v[1]+0.05),size=15) #データ点にラベル名を付与"
   ]
  },
  {
   "cell_type": "markdown",
   "metadata": {},
   "source": [
    "この図を見てみると，やはりクエリ$q$と文書$d_2$はほぼ同じ方向（つまり，コサイン類似度が１に近い）であることがわかり， $q$と$d_1$の角度はほぼ直角（つまりコサイン類似度が0）であることがわかります．"
   ]
  },
  {
   "cell_type": "markdown",
   "metadata": {},
   "source": [
    "----"
   ]
  },
  {
   "cell_type": "markdown",
   "metadata": {},
   "source": [
    "# 演習課題その1 ベクトル空間モデル\n",
    "\n",
    "## 必須課題（1） 与えられたコーパスに対する検索の実現\n",
    "\n",
    "以下からコーパスを1つ以上選択し，ベクトル空間モデルに基づいた検索を実現せよ．３種類以上のクエリでの検索結果を示すこと．\n",
    "\n",
    "\n",
    "1. 京都観光に関する83件の文書（h29iro/data/kyoto_results_100.json）\n",
    "2. 各自で用意したコーパス．ただし，100件以上の文書数を含むこと．もっと多くてもよい．\n",
    "3. Wikipedia（[参考: gensim Tutorial](https://radimrehurek.com/gensim/wiki.html) ）※ただし，モデル構築にとんでもない時間がかかるそうなので覚悟すること．\n",
    "\n",
    "\n",
    "- ページに表示する検索結果は各クエリ5-10件程度で良い．"
   ]
  },
  {
   "cell_type": "code",
   "execution_count": 70,
   "metadata": {
    "scrolled": true
   },
   "outputs": [
    {
     "name": "stdout",
     "output_type": "stream",
     "text": [
      "('Num of docs = ', 83)\n"
     ]
    },
    {
     "data": {
      "text/plain": [
       "{u'bow': u'\\u5b9a\\u756a \\u7a74\\u5834 \\u304a \\u30b9\\u30b9\\u30e1 \\u4eac\\u90fd \\u89b3\\u5149 ...- NAVER \\u307e\\u3068\\u3081 \\u95a2\\u897f \\u4f4f\\u3093 \\u3044\\u308b \\u4f5c\\u8005 \\u304a \\u30b9\\u30b9\\u30e1 \\u4eac\\u90fd \\u89b3\\u5149 \\u540d\\u6240 \\u307e\\u3068\\u3081 \\u307e\\u3057 \\u305f \\u5b9a\\u756a \\u7a74\\u5834 \\u30b9\\u30dd\\u30c3\\u30c8 \\u968f\\u6642 \\u307e\\u3068\\u3081 \\u3044\\u304d \\u307e\\u3059 \\u662f\\u975e \\u4eac\\u90fd \\u89b3\\u5149 \\u53c2\\u8003 \\u3057 \\u4e0b\\u3055\\u3044',\n",
       " u'summary': u'\\u95a2\\u897f\\u306b\\u4f4f\\u3093\\u3067\\u3044\\u308b\\u4f5c\\u8005\\u304c\\u304a\\u30b9\\u30b9\\u30e1\\u306e\\u4eac\\u90fd\\u306e\\u89b3\\u5149\\u540d\\u6240\\u3092\\u307e\\u3068\\u3081\\u307e\\u3057\\u305f \\u5b9a\\u756a\\u304b\\u3089\\u7a74\\u5834\\u306e\\u30b9\\u30dd\\u30c3\\u30c8\\u3092\\u968f\\u6642\\u307e\\u3068\\u3081\\u3066\\u3044\\u304d\\u307e\\u3059\\uff01\\u662f\\u975e\\u3001\\u4eac\\u90fd\\u89b3\\u5149\\u306e\\u53c2\\u8003\\u306b\\u3057\\u3066\\u4e0b\\u3055\\u3044\\u3002',\n",
       " u'title': u'\\u3010\\u5b9a\\u756a\\u304b\\u3089\\u7a74\\u5834\\u307e\\u3067\\u3011\\u304a\\u30b9\\u30b9\\u30e1\\u306e\\u4eac\\u90fd\\u89b3\\u5149 ...- NAVER \\u307e\\u3068\\u3081',\n",
       " u'url': u'matome.naver.jp/odai/2137693040709691601'}"
      ]
     },
     "execution_count": 70,
     "metadata": {},
     "output_type": "execute_result"
    }
   ],
   "source": [
    "# 1.のコーパスはjson形式で保管されている．\n",
    "import json\n",
    "with open(\"../data/kyoto_results_100.json\", \"r\") as f:\n",
    "    docs = json.load(f)\n",
    "print(\"Num of docs = \", len(docs))\n",
    "docs[0]"
   ]
  },
  {
   "cell_type": "code",
   "execution_count": 152,
   "metadata": {},
   "outputs": [
    {
     "data": {
      "text/plain": [
       "u'\\u5b9a\\u756a \\u7a74\\u5834 \\u304a \\u30b9\\u30b9\\u30e1 \\u4eac\\u90fd \\u89b3\\u5149 ...- NAVER \\u307e\\u3068\\u3081 \\u95a2\\u897f \\u4f4f\\u3093 \\u3044\\u308b \\u4f5c\\u8005 \\u304a \\u30b9\\u30b9\\u30e1 \\u4eac\\u90fd \\u89b3\\u5149 \\u540d\\u6240 \\u307e\\u3068\\u3081 \\u307e\\u3057 \\u305f \\u5b9a\\u756a \\u7a74\\u5834 \\u30b9\\u30dd\\u30c3\\u30c8 \\u968f\\u6642 \\u307e\\u3068\\u3081 \\u3044\\u304d \\u307e\\u3059 \\u662f\\u975e \\u4eac\\u90fd \\u89b3\\u5149 \\u53c2\\u8003 \\u3057 \\u4e0b\\u3055\\u3044'"
      ]
     },
     "execution_count": 152,
     "metadata": {},
     "output_type": "execute_result"
    }
   ],
   "source": [
    "# `bow`　には形態素解析でトークン化された単語列がスペース区切りで保存されている．\n",
    "# これを使用して特徴ベクトルを作成するとよい．\n",
    "docs[0][\"bow\"]"
   ]
  },
  {
   "cell_type": "markdown",
   "metadata": {},
   "source": [
    "## 以下が課題のコード"
   ]
  },
  {
   "cell_type": "code",
   "execution_count": 154,
   "metadata": {},
   "outputs": [
    {
     "name": "stdout",
     "output_type": "stream",
     "text": [
      "----------------------------\n",
      "クエリ\n",
      "京都\n",
      "\n",
      "旬の京都観光情報と 京都のおすすめ観光スポット | 京都観光総 ...\n",
      "https://kyoto-design.jp\n",
      "京都観光オフィシャルサイト 京都観光Navi\n",
      "https://kanko.city.kyoto.lg.jp\n",
      "京都観光地おすすめランキング - コトログ京都\n",
      "www.kotolog.jp\n",
      "京都観光 おすすめ観光スポット・世界遺産・グルメのまとめ\n",
      "homepage2.nifty.com/otokulink/kyoto_top.html\n",
      "季節の散策コース｜観光ガイド｜そうだ 京都、行こう。～京都 ...\n",
      "souda-kyoto.jp/travel/walk\n",
      "----------------------------\n",
      "\n",
      "----------------------------\n",
      "クエリ\n",
      "観光\n",
      "\n",
      "旬の京都観光情報と 京都のおすすめ観光スポット | 京都観光総 ...\n",
      "https://kyoto-design.jp\n",
      "観光バスツアー・観光タクシー | 京都の観光&遊び・体験 ...\n",
      "www.veltra.com/jp/japan/kyoto/ctg/7185:Bus_Tours\n",
      "「 京都観光タクシー 」 格安で有意義な京都観光をお約束！\n",
      "www.kyoto.cc/index.htm\n",
      "京都観光おすすめのグルメや人気の穴場\n",
      "trendnews-kyoto-0909.com\n",
      "京都観光/旅行・ぶらり伏見\n",
      "kyoto-fushimi.sakura.ne.jp\n",
      "----------------------------\n",
      "\n",
      "----------------------------\n",
      "クエリ\n",
      "おすすめ\n",
      "\n",
      "京都観光おすすめのグルメや人気の穴場\n",
      "trendnews-kyoto-0909.com\n",
      "京都観光 | 京都の観光を楽しむならきょうと情報版\n",
      "www.kyotojoho.co.jp\n",
      "京都観光地おすすめランキング - コトログ京都\n",
      "www.kotolog.jp\n",
      "旬の京都観光情報と 京都のおすすめ観光スポット | 京都観光総 ...\n",
      "https://kyoto-design.jp\n",
      "京都観光のおすすめコースをガイド | 京都じっくり観光\n",
      "www.kyotokanko.co.jp\n",
      "----------------------------\n",
      "\n"
     ]
    }
   ],
   "source": [
    "# --- 1.文字の読み込みとトークナイズ ---\n",
    "# スペース区切りで単語を分割する\n",
    "raw_corpus = [d[\"bow\"].split() for d in docs]\n",
    "\n",
    "# ストップワードを除去する(TODO: 日本語はどうやる?不要?)\n",
    "# corpus = corpus = [list(filter(lambda word: word not in stopwords.words(\"english\"), x)) for x in raw_corpus] \n",
    "\n",
    "# --- 2.特徴ベクトルの作成 ---\n",
    "\n",
    "# コーパスを与えて、単語->IDの辞書を作成する\n",
    "dictionary = gensim.corpora.Dictionary(raw_corpus) \n",
    "\n",
    "# 文書の単語をID化\n",
    "id_corpus = [dictionary.doc2bow(document) for document in raw_corpus]\n",
    "\n",
    "# id_courpusからIFIDFで重み付けされた特徴ベクトルを得る\n",
    "tfidf_model = gensim.models.TfidfModel(id_corpus, normalize=False) \n",
    "# id_corpusをtfidfで重み付けされたものに変換\n",
    "tfidf_corpus = tfidf_model[id_corpus] \n",
    "\n",
    "# --- 3.コサイン類似度 ---\n",
    "#今回の課題ではコサイン類似度を元にランキングを行う\n",
    "tfidf_vectors = gensim.matutils.corpus2dense(tfidf_corpus, len(dictionary)).T\n",
    "\n",
    "# クエリによる検索\n",
    "qs = [{\"京都\"}, {\"観光\"}, {\"おすすめ\"}]\n",
    "\n",
    "# クエリを特徴ベクトルに変換\n",
    "tfidf_qs = [ tfidf_model[dictionary.doc2bow(qs[i])] for i in range(3)  ]\n",
    "query_vectors =  [gensim.matutils.corpus2dense([tfidf_qs[i]], len(dictionary)).T[0]  for i in range(3)]\n",
    "\n",
    "# コサイン類似を求め、ランキングにする\n",
    "query_rankings =  [np.argsort([cosine_sim(query_vectors[i], tfidf_vectors[x]) for x in range(83)])[::-1]  for i in range(3)]\n",
    "\n",
    "# ランキングを表示する\n",
    "for i in range(3):\n",
    "    print \"----------------------------\"\n",
    "    print \"クエリ\"\n",
    "    print [\"京都\", \"観光\", \"おすすめ\"][i]\n",
    "    print \"\"\n",
    "    for j in range(5):\n",
    "        print docs[query_rankings[i][j]][\"title\"]\n",
    "        print docs[query_rankings[i][j]][\"url\"]\n",
    "    print \"----------------------------\"\n",
    "    print \"\""
   ]
  },
  {
   "cell_type": "markdown",
   "metadata": {
    "collapsed": true
   },
   "source": [
    "## 任意課題（a） Okapi BM25\n",
    "\n",
    "上記（１）に対して， Okapi BM25 に基づくランキングを行い，上記（１）の結果と比較してみよ．また，結果が変わらない場合は，結果が変わるような文書例を自分で考えてみよ．\n",
    "\n",
    "## 任意課題（b） 適合性フィードバック\n",
    "\n",
    "適合性フィードバックによるクエリ修正を行い，検索結果がどのように変化するのか分析せよ．また，コーパス及びクエリを可視化することで，修正されたクエリが適合・不適合文書の特徴ベクトルにどのように影響されているか幾何的に分析せよ．\n",
    "\n",
    "\n",
    "# 課題の提出方法\n",
    "\n",
    "いずれかの方法で，ipython notebookのページ（.ipynbファイル）とそのhtml版を提出すること．\n",
    "\n",
    "1. 添付ファイルで山本に送信．\n",
    "   - 送付先 tyamamot at dl.kuis.kyoto-u.ac.jp\n",
    "2. 各自のgithubやgithub gistにアップロードし，そのURLを山本に送信．この場合はhtml版を用意する必要はない．\n",
    "3. 上記以外で，山本が実際に.ipynbファイルを確認できる方法．\n",
    "\n",
    "\n",
    "# 締切\n",
    "\n",
    "- 2018年1月25日（金）23:59\n",
    "- 締切に関する個別の相談は``受け付けます``．"
   ]
  },
  {
   "cell_type": "code",
   "execution_count": null,
   "metadata": {
    "collapsed": true
   },
   "outputs": [],
   "source": []
  }
 ],
 "metadata": {
  "anaconda-cloud": {},
  "kernelspec": {
   "display_name": "Python 3",
   "language": "python",
   "name": "python3"
  },
  "language_info": {
   "codemirror_mode": {
    "name": "ipython",
    "version": 2
   },
   "file_extension": ".py",
   "mimetype": "text/x-python",
   "name": "python",
   "nbconvert_exporter": "python",
   "pygments_lexer": "ipython2",
   "version": "2.7.14"
  }
 },
 "nbformat": 4,
 "nbformat_minor": 1
}
