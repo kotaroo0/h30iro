{
 "cells": [
  {
   "cell_type": "markdown",
   "metadata": {},
   "source": [
    "# 第3回 情報検索の評価\n",
    "\n",
    "この演習ページでは，既存のツールを使って各種評価指標を計算する方法について説明します．\n",
    "\n",
    "参考文献\n",
    "- [情報アクセス評価方法論 -検索エンジンの進歩のために-](https://www.amazon.co.jp/%E6%83%85%E5%A0%B1%E3%82%A2%E3%82%AF%E3%82%BB%E3%82%B9%E8%A9%95%E4%BE%A1%E6%96%B9%E6%B3%95%E8%AB%96-%E9%85%92%E4%BA%95-%E5%93%B2%E4%B9%9F/dp/4339024961), 酒井哲也, コロナ社, 2015.\n",
    "\n",
    "## ライブラリ\n",
    "この演習では，情報検索におけるさまざまな評価指標を計算するためのツールキットである NTCIREVAL のPython版である pyNTCIREVAL を使用します．\n",
    "\n",
    "- [pyNTCIREVAL](https://github.com/mpkato/pyNTCIREVAL/) by 京都大学 加藤 誠 先生\n",
    "- [NTCIREVAL](http://research.nii.ac.jp/ntcir/tools/ntcireval-ja.html) by 早稲田大学 酒井 哲也 先生\n",
    "\n",
    "NTCIREVALの説明を上記ページから引用します．\n",
    "\n",
    "----\n",
    "```\n",
    "NTCIREVALは、様々な検索評価指標を計算するためのツールキットです。\n",
    "NTCIRやTRECのad hoc文書検索タスクの他、diversified search resultsの評価やNTCIR-8コミュニティQAタスクの評価などにも利用できます。\n",
    "\n",
    "NTCIREVALは例えば以下のような指標を算出できます:\n",
    "-Average Precision\n",
    "-Q-measure\n",
    "-nDCG\n",
    "-Expected Reciprocal Rank (ERR)\n",
    "-Graded Average Precision (GAP)\n",
    "-Rank-Biased Precision (RBP)\n",
    "-Normalised Cumulative Utility (NCU)\n",
    "-上記各指標の短縮リスト版\n",
    "-Bpref\n",
    "-D-measures and D#-measures (多様性評価用)\n",
    "-Intent-Aware (IA) metrics (多様性評価用)\n",
    "```\n",
    "----\n",
    "\n",
    "## ライブラリのインストール\n",
    "`pip`というPythonライブラリ管理ツールを使用してインストールします． ターミナル上で h30iroのフォルダに移動し，下記コマンドで pyNTCIREVAL をインストールしてください．\n",
    "\n",
    "```\n",
    "pip install pyNTCIREVAL\n",
    "```\n",
    "\n",
    "正しくインストールできれば， notebook上で\n",
    "\n",
    "!pyNTCIREVAL\n",
    "\n",
    "と実行すれば，以下の様なメッセージが出力されます．\n",
    "\n",
    "```\n",
    "Usage: pyNTCIREVAL [OPTIONS] COMMAND [ARGS]...\n",
    "\n",
    "Options:\n",
    "  -h, --help  Show this message and exit.\n",
    "\n",
    "Commands:\n",
    "  compute\n",
    "  label\n",
    "```\n"
   ]
  },
  {
   "cell_type": "code",
   "execution_count": 1,
   "metadata": {},
   "outputs": [
    {
     "name": "stdout",
     "output_type": "stream",
     "text": [
      "Usage: pyNTCIREVAL [OPTIONS] COMMAND [ARGS]...\r\n",
      "\r\n",
      "Options:\r\n",
      "  -h, --help  Show this message and exit.\r\n",
      "\r\n",
      "Commands:\r\n",
      "  compute\r\n",
      "  label\r\n"
     ]
    }
   ],
   "source": [
    "!pyNTCIREVAL"
   ]
  },
  {
   "cell_type": "markdown",
   "metadata": {},
   "source": [
    "なお，notebook上で $!$ の後の文字列はシェル（ターミナル）に対するコマンドと解釈され，シェルの出力がnotebookの画面に出力されます．"
   ]
  },
  {
   "cell_type": "markdown",
   "metadata": {},
   "source": [
    "# 1. 評価データの準備\n",
    "\n",
    "NTCIREVALおよびpyNTCIREVALでは，評価用のテキストファイルをプログラムに渡すことで，評価値を計算します．\n",
    "`../data/eval/` にサンプルデータを置いています． \n",
    "\n",
    "基本的に，ある手法のある検索課題に対する評価指標を検索するためには，以下の２つのファイルを準備する必要があります．\n",
    "\n",
    "- 適合性評価ファイル（*.rel）\n",
    "- 検索結果ファイル（*.res）\n",
    "\n",
    "## 適合性評価ファイル\n",
    "\n",
    "適合性評価ファイルは，ある検索課題に対するコレクション中の適合性評価結果を表すテキストファイルです． `../data/eval/q1.rel` にサンプルデータを置いています．このファイル名は，検索課題$q_1$に対する適合性評価ファイルであることを意味しています（NTICREVALではファイル名に形式はありません．単純に利用者が分かりやすいため，山本がこのような名前をつけています）．\n",
    "\n",
    "q1.rel の中身はこのようになっています．"
   ]
  },
  {
   "cell_type": "code",
   "execution_count": 2,
   "metadata": {},
   "outputs": [
    {
     "name": "stdout",
     "output_type": "stream",
     "text": [
      "d1 L1\r\n",
      "d2 L0\r\n",
      "d3 L2\r\n",
      "d4 L1\r\n",
      "d5 L0\r\n",
      "d6 L0"
     ]
    }
   ],
   "source": [
    "!cat ../data/eval/q1.rel"
   ]
  },
  {
   "cell_type": "markdown",
   "metadata": {},
   "source": [
    "このファイルの一行の意味は，\n",
    "\n",
    "```\n",
    "文書ID 適合性ラベル\n",
    "```\n",
    "となっています． 文書IDは評価データ作成者が適宜付与したIDです．適合性ラベルは慣習上このような書き方をしており，\n",
    "L0 が不適合を表し，L1,  L2 ... , 以降は適合性の度合い（適合度）を表します．今回は，適合度は3段階（$\\{0,1,2 \\}$）のため，ラベルは$\\{L0,L1,L2\\}$の3種類です．4段階の適合度を用いる場合は，$\\{L0,L1,L2,L3\\}$をラベルとして用います．\n",
    "\n",
    "たとえば， q1.relファイルの3行目の\n",
    "\n",
    "```\n",
    "d3 L2\n",
    "```\n",
    "\n",
    "は，文書ID $d_3$の適合度が $2$ であることを表しています．"
   ]
  },
  {
   "cell_type": "markdown",
   "metadata": {},
   "source": [
    "## 検索結果ファイル\n",
    "\n",
    "検索結果ファイルは，ある手法のある検索課題に対する検索結果（つまり，ランク付けされた文書集合）を表すテキストファイルです．  `../data/eval/method1.q1.res`にサンプルデータを置いています．\n",
    "\n",
    "`method1.q1.res` の中身はこのようになっています．"
   ]
  },
  {
   "cell_type": "code",
   "execution_count": 3,
   "metadata": {
    "scrolled": false
   },
   "outputs": [
    {
     "name": "stdout",
     "output_type": "stream",
     "text": [
      "d1\r\n",
      "d2\r\n",
      "d3"
     ]
    }
   ],
   "source": [
    "!cat ../data/eval/method1.q1.res"
   ]
  },
  {
   "cell_type": "markdown",
   "metadata": {},
   "source": [
    "このように，検索結果ファイルはランキング結果を単純に文書IDで表します．たとえば，このファイルは， 検索課題$q_1$に対して $d_1, d_2, d_3$ の順で文書をランキングしたことを表しています．"
   ]
  },
  {
   "cell_type": "markdown",
   "metadata": {},
   "source": [
    "# 2. 適合性ラベル付き検索結果ファイルの作成\n",
    "\n",
    "適合性評価ファイルと検索結果ファイルを準備したら，次に適合性ラベル付き検索結果ファイルを作成します．このファイルはpyNTCIREVALの機能を利用して作成することができます．また，自身でプログラムを書いてこのファイルを作成することもできます． pyNTCIREVAL を用いて適合性ラベル付き検索結果ファイルを作成する場合は，以下のコマンドを実行します．"
   ]
  },
  {
   "cell_type": "code",
   "execution_count": 4,
   "metadata": {},
   "outputs": [
    {
     "name": "stdout",
     "output_type": "stream",
     "text": [
      "d1 L1\r\n",
      "d2 L0\r\n",
      "d3 L2\r\n"
     ]
    }
   ],
   "source": [
    "!pyNTCIREVAL label -r ../data/eval/q1.rel < ../data/eval/method1.q1.res"
   ]
  },
  {
   "cell_type": "markdown",
   "metadata": {},
   "source": [
    "シェルのパイプを用いているので，シェルについて詳しくない人は上記コマンドの意味がよく分からないかもしれませんが\n",
    "\n",
    "```\n",
    "pyNTCIREVAL label\n",
    "```\n",
    "\n",
    "は適合性ラベル付き検索結果ファイルを作成するためのコマンドです．\n",
    "\n",
    "```\n",
    "-r ../data/eval/q1.rel \n",
    "```\n",
    "\n",
    "は適合性評価ファイルの場所を指定しており，\n",
    "\n",
    "```\n",
    " < ../data/eval/method1.q1.res\n",
    "```\n",
    "\n",
    "はpyNTCIREVALに，ラベルを付与して欲しい検索結果を渡しています．\n",
    "\n",
    "上記コマンドを実行すると，\n",
    "\n",
    "```\n",
    "d1 L1\n",
    "d2 L0\n",
    "d3 L2\n",
    "```\n",
    "\n",
    "という結果が得られます．つまりこのプログラムは，検索結果ファイル中の各文書IDに対して，適合性評価ファイル中の対応する文書IDの適合性ラベルを付加しています．\n",
    "\n",
    "ちなみに，上記コマンドだけでは適合性ラベル付き検索結果ファイルの内容が画面に出力されるだけです．この内容をファイルに保存するには，例えば以下の様にします．"
   ]
  },
  {
   "cell_type": "code",
   "execution_count": 5,
   "metadata": {},
   "outputs": [],
   "source": [
    "!pyNTCIREVAL label -r ../data/eval/q1.rel < ../data/eval/method1.q1.res > ../data/eval/method1.q1.rel"
   ]
  },
  {
   "cell_type": "markdown",
   "metadata": {},
   "source": [
    "```\n",
    " >  ../data/eval/method1.q1.rel\n",
    "```\n",
    " \n",
    "これもシェルのコマンドで，出力をmethod1.q1.relに書き込むという意味です．"
   ]
  },
  {
   "cell_type": "code",
   "execution_count": 6,
   "metadata": {},
   "outputs": [
    {
     "name": "stdout",
     "output_type": "stream",
     "text": [
      "d1 L1\r\n",
      "d2 L0\r\n",
      "d3 L2\r\n"
     ]
    }
   ],
   "source": [
    "!cat ../data/eval/method1.q1.rel"
   ]
  },
  {
   "cell_type": "markdown",
   "metadata": {},
   "source": [
    "# 3. 評価指標の計算\n",
    "\n",
    "適合性評価ファイルと，適合性評価付き検索結果ファイルが準備できたら，それらをpyNTCIREVALに渡すことで，各種評価指標を計算できます．"
   ]
  },
  {
   "cell_type": "code",
   "execution_count": 7,
   "metadata": {
    "scrolled": true
   },
   "outputs": [
    {
     "name": "stdout",
     "output_type": "stream",
     "text": [
      " # syslen=3 jrel=3 jnonrel=3\r\n",
      " # r1=1 rp=3\r\n",
      " RR=                 1.0000\r\n",
      " OMeasure=           0.5000\r\n",
      " PMeasure=           0.7500\r\n",
      " PPlusMeasure=       0.6250\r\n",
      " AP=                 0.5556\r\n",
      " QMeasure=           0.4167\r\n",
      " NCUguP=             0.6000\r\n",
      " NCUguBR=            0.5500\r\n",
      " NCUrbP=             0.5726\r\n",
      " NCUrbBR=            0.4251\r\n",
      " RBP=                0.0618\r\n",
      " ERR=                0.4375\r\n",
      " AP@0001=            1.0000\r\n",
      " QMeasure@0001=      0.5000\r\n",
      " nDCG@0001=          0.3333\r\n",
      " MSnDCG@0001=        0.3333\r\n",
      " Precision@0001=     1.0000\r\n",
      " nERR@0001=          0.3333\r\n",
      " Hit@0001=           1.0000\r\n",
      " AP@0003=            0.5556\r\n",
      " QMeasure@0003=      0.4167\r\n",
      " nDCG@0003=          0.6247\r\n",
      " MSnDCG@0003=        0.6052\r\n",
      " Precision@0003=     0.6667\r\n",
      " nERR@0003=          0.5490\r\n",
      " Hit@0003=           1.0000\r\n"
     ]
    }
   ],
   "source": [
    "!pyNTCIREVAL compute -r ../data/eval/q1.rel -g 1:3 --cutoffs=1,3　< ../data/eval/method1.q1.rel"
   ]
  },
  {
   "cell_type": "markdown",
   "metadata": {},
   "source": [
    "## コマンドの説明\n",
    "\n",
    "```\n",
    "pyNTECIREVAL compute\n",
    "```\n",
    "\n",
    "は評価指標を計算するためのコマンドです．\n",
    "\n",
    "```\n",
    "-g 1:3\n",
    "```\n",
    "\n",
    "は適合度$L1，L2$の文書に対する利得（Gain）を指定しています．この値はたとえばnDCGを計算する際に使用されます．今回は利得関数として， $g(i) = 2^{{\\rm rel}_i} -1$を用いるので， $L1 = 1, L2 = 3$という利得を指定しています．\n",
    "\n",
    "\n",
    "```\n",
    "--cutoffs 1:3\n",
    "```\n",
    "\n",
    "は，指標を計算する際に検索結果上位何件まで考慮するか（@$k$）を指定しています．この場合，上位1,3件における指標がそれぞれ出力されます．\n",
    "\n"
   ]
  },
  {
   "cell_type": "markdown",
   "metadata": {},
   "source": [
    "## 結果の見方\n",
    "\n",
    "各指標の結果が出力されています．たとえば，nERR@0003は上位$3$件まで考慮した際のnERRの値を表しています（すなわち，nERR@$3$）．また，@$k$が付与されていない指標は与えられたランキング結果全てを考慮した際の評価値です． \n",
    "\n",
    "\n",
    "<span style=\"color:red\">注意点として，本講義で示したnDCGの定義は MSnDCG版と呼ばれるnDCGの計算方法です．従って，本講義のnDCG@$3$に対応する指標はMSnDCG@0003になります．</span>\n",
    "\n",
    "最後に，評価結果をファイルに保存するには，先ほどと同様に出力をファイルに書き込みます．"
   ]
  },
  {
   "cell_type": "code",
   "execution_count": 8,
   "metadata": {
    "collapsed": true
   },
   "outputs": [],
   "source": [
    "!pyNTCIREVAL compute -r ../data/eval/q1.rel -g 1:3 --cutoffs=1,3 < ../data/eval/method1.q1.rel > ../data/eval/method1.q1.eval"
   ]
  },
  {
   "cell_type": "markdown",
   "metadata": {},
   "source": [
    "pyNTCIREVALの使い方は以上となります． pyNTCIREVALの本体であるNTCIREVALには，複数の検索課題に対する複数の手法の結果を一括で処理するようなプログラムも含まれています．興味がある人，あるいは実際に研究でそのような評価実験を行う可能性がある人は，ぜひNTCIREVALについても調べてください．"
   ]
  },
  {
   "cell_type": "markdown",
   "metadata": {},
   "source": [
    "----\n",
    "# 演習課題その2 情報検索の評価\n",
    "\n",
    "## 必須課題 （１） 動作の確認\n",
    "\n",
    "このページで用いた検索結果に対するpyNTCIREVALの出力のうち，`MSnDCG@0003`と`nERR@0003`が，講義資料の定義に従った計算と一致していることを確かめよ．つまり，nDCG@3とnERR@3を計算するプログラム書き，その結果がpyNTCIREVALの結果と一致していることを確認せよ．\n",
    "\n",
    "\n",
    "## 必須課題（２）独自データに対する評価指標の計算\n",
    "\n",
    "各自でデータを作成しpyNTCIREVALを用いてMRR，nDCG@3およびnERR@3を計算せよ．このとき，MRR，nDCG@3，nERR@3がそれぞれ異なる結果となるようなデータを用意せよ．また，検索課題（クエリ）は最低3つ用意すること．そして， MRR，nDCG@3およびnERR@3の平均を報告し，それらの値の違いが各指標のどういった要因によるものか考察せよ． \n",
    " \n",
    "## 任意課題 （a）評価指標の調査\n",
    "\n",
    "情報検索の評価指標にはさまざまなものがあり，今回の講義で扱わなかった指標も多い．たとえば， MAP（Mean Average Precision），RBP（Rank-Biased Precision）， Q-measureなどがある．そこで，これらの指標について2つ以上調べ，どのような指標か説明するとともに，それを計算するプログラムを作成し，pyNTCIREVALの結果と一致することを確認せよ．\n",
    "\n",
    "- Mean Averge Precision\n",
    " - 参考: Introduction to Informaton Retrieval, Chapter 8: Evaluation in information retrieval.\n",
    "- Q-measure\n",
    " - 参考: Sakai, T. and Song, R.: Evaluating Diversified Search Results Using Per-intent Graded Relevance,\n",
    "SIGIR 2011.\n",
    "- Rank-Biased Precision:\n",
    "  - 参考: Moffat, A. and Zobel, J.: Rank-biased Precision for Measurement of Retrieval Effectiveness, ACM TOIS 27(1), 2008.\n",
    "\n",
    "\n",
    "# 課題の提出方法\n",
    "\n",
    "いずれかの方法で，ipython notebookのページ（.ipynbファイル）とそのhtml版を提出すること．\n",
    "\n",
    "1. 添付ファイルで山本に送信．\n",
    "   - 送付先 tyamamot at dl.kuis.kyoto-u.ac.jp\n",
    "2. 各自のgithubやgithub gistにアップロードし，そのURLを山本に送信．この場合はhtml版を用意する必要はない．\n",
    "3. 上記以外で，山本が実際に.ipynbファイルを確認できる方法．\n",
    "\n",
    "\n",
    "# 締切\n",
    "\n",
    "- 2019年1月25日（木）23:59\n",
    "- 締切に関する個別の相談は``受け付けます``．\n"
   ]
  }
 ],
 "metadata": {
  "kernelspec": {
   "display_name": "Python 3",
   "language": "python",
   "name": "python3"
  },
  "language_info": {
   "codemirror_mode": {
    "name": "ipython",
    "version": 3
   },
   "file_extension": ".py",
   "mimetype": "text/x-python",
   "name": "python",
   "nbconvert_exporter": "python",
   "pygments_lexer": "ipython3",
   "version": "3.6.5"
  }
 },
 "nbformat": 4,
 "nbformat_minor": 1
}
