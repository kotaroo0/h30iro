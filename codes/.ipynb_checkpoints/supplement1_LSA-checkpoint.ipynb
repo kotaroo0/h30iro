{
 "cells": [
  {
   "cell_type": "markdown",
   "metadata": {},
   "source": [
    "# 情報組織化・検索論 補足資料1\n",
    "## 潜在的意味解析\n",
    " - このページは演習ではありません．講義の理解を深めるために役立ててください．\n",
    " - 参考文献: Christopher D. Manning et al., [Introduction to Information Retrieval](https://nlp.stanford.edu/IR-book/), Cambridge University Press. 2008.\n",
    " \n",
    "\n",
    " "
   ]
  },
  {
   "cell_type": "code",
   "execution_count": 1,
   "metadata": {
    "collapsed": false
   },
   "outputs": [],
   "source": [
    "import numpy as np\n",
    "import scipy.linalg as lg\n",
    "from scipy.spatial.distance import cosine\n",
    "import matplotlib.pyplot as plt \n",
    "import pandas as pd\n",
    "np.set_printoptions(precision=2)\n",
    "pd.set_option('precision', 2)"
   ]
  },
  {
   "cell_type": "code",
   "execution_count": 2,
   "metadata": {
    "collapsed": true
   },
   "outputs": [],
   "source": [
    "%matplotlib inline"
   ]
  },
  {
   "cell_type": "code",
   "execution_count": 3,
   "metadata": {
    "collapsed": false,
    "scrolled": true
   },
   "outputs": [
    {
     "data": {
      "text/plain": [
       "'%.2f'"
      ]
     },
     "execution_count": 3,
     "metadata": {},
     "output_type": "execute_result"
    }
   ],
   "source": [
    "%precision 2"
   ]
  },
  {
   "cell_type": "code",
   "execution_count": 4,
   "metadata": {
    "collapsed": true
   },
   "outputs": [],
   "source": [
    "def sim(v1,v2): #コサイン類似度\n",
    "    return 1-cosine(v1,v2)"
   ]
  },
  {
   "cell_type": "code",
   "execution_count": 5,
   "metadata": {
    "collapsed": false,
    "scrolled": true
   },
   "outputs": [
    {
     "name": "stdout",
     "output_type": "stream",
     "text": [
      "[[1 0 1 0 0 0]\n",
      " [0 1 0 0 0 0]\n",
      " [1 1 0 0 0 0]\n",
      " [1 0 0 1 1 0]\n",
      " [0 0 0 1 0 1]]\n",
      "(5, 6)\n",
      "Rank(M) = 5\n"
     ]
    }
   ],
   "source": [
    "# IIR exercise 18.4 の内容を用意\n",
    "M = np.array(\n",
    "    [[1,0,1,0,0,0],\n",
    "    [0,1,0,0,0,0],\n",
    "    [1,1,0,0,0,0],\n",
    "    [1,0,0,1,1,0],\n",
    "    [0,0,0,1,0,1]]\n",
    ")\n",
    "print(M)\n",
    "print(M.shape)\n",
    "print(\"Rank(M) =\", np.linalg.matrix_rank(M)) #行列Mのランクは5"
   ]
  },
  {
   "cell_type": "code",
   "execution_count": 6,
   "metadata": {
    "collapsed": false
   },
   "outputs": [
    {
     "data": {
      "text/html": [
       "<div>\n",
       "<table border=\"1\" class=\"dataframe\">\n",
       "  <thead>\n",
       "    <tr style=\"text-align: right;\">\n",
       "      <th></th>\n",
       "      <th>d1</th>\n",
       "      <th>d2</th>\n",
       "      <th>d3</th>\n",
       "      <th>d4</th>\n",
       "      <th>d5</th>\n",
       "      <th>d6</th>\n",
       "    </tr>\n",
       "  </thead>\n",
       "  <tbody>\n",
       "    <tr>\n",
       "      <th>ship</th>\n",
       "      <td>1</td>\n",
       "      <td>0</td>\n",
       "      <td>1</td>\n",
       "      <td>0</td>\n",
       "      <td>0</td>\n",
       "      <td>0</td>\n",
       "    </tr>\n",
       "    <tr>\n",
       "      <th>boat</th>\n",
       "      <td>0</td>\n",
       "      <td>1</td>\n",
       "      <td>0</td>\n",
       "      <td>0</td>\n",
       "      <td>0</td>\n",
       "      <td>0</td>\n",
       "    </tr>\n",
       "    <tr>\n",
       "      <th>ocean</th>\n",
       "      <td>1</td>\n",
       "      <td>1</td>\n",
       "      <td>0</td>\n",
       "      <td>0</td>\n",
       "      <td>0</td>\n",
       "      <td>0</td>\n",
       "    </tr>\n",
       "    <tr>\n",
       "      <th>voyge</th>\n",
       "      <td>1</td>\n",
       "      <td>0</td>\n",
       "      <td>0</td>\n",
       "      <td>1</td>\n",
       "      <td>1</td>\n",
       "      <td>0</td>\n",
       "    </tr>\n",
       "    <tr>\n",
       "      <th>trip</th>\n",
       "      <td>0</td>\n",
       "      <td>0</td>\n",
       "      <td>0</td>\n",
       "      <td>1</td>\n",
       "      <td>0</td>\n",
       "      <td>1</td>\n",
       "    </tr>\n",
       "  </tbody>\n",
       "</table>\n",
       "</div>"
      ],
      "text/plain": [
       "       d1  d2  d3  d4  d5  d6\n",
       "ship    1   0   1   0   0   0\n",
       "boat    0   1   0   0   0   0\n",
       "ocean   1   1   0   0   0   0\n",
       "voyge   1   0   0   1   1   0\n",
       "trip    0   0   0   1   0   1"
      ]
     },
     "execution_count": 6,
     "metadata": {},
     "output_type": "execute_result"
    }
   ],
   "source": [
    "doc_names = [\"d1\", \"d2\", \"d3\", \"d4\", \"d5\", \"d6\"]\n",
    "term_names = [\"ship\", \"boat\", \"ocean\", \"voyge\", \"trip\"]\n",
    "df = pd.DataFrame(M, \n",
    "                  columns=doc_names, index=term_names) \n",
    "df"
   ]
  },
  {
   "cell_type": "markdown",
   "metadata": {},
   "source": [
    "# 特異値分解"
   ]
  },
  {
   "cell_type": "code",
   "execution_count": 7,
   "metadata": {
    "collapsed": false
   },
   "outputs": [],
   "source": [
    "U, sigma, Vt = lg.svd(M) #SVD．なお，sigmaは行列ではなく特異値が降順に並んだ配列"
   ]
  },
  {
   "cell_type": "code",
   "execution_count": 8,
   "metadata": {
    "collapsed": false,
    "scrolled": true
   },
   "outputs": [
    {
     "name": "stdout",
     "output_type": "stream",
     "text": [
      "(5, 6)\n",
      "[[ 2.16  0.    0.    0.    0.    0.  ]\n",
      " [ 0.    1.59  0.    0.    0.    0.  ]\n",
      " [ 0.    0.    1.28  0.    0.    0.  ]\n",
      " [ 0.    0.    0.    1.    0.    0.  ]\n",
      " [ 0.    0.    0.    0.    0.39  0.  ]]\n"
     ]
    }
   ],
   "source": [
    "Sigma = lg.diagsvd(sigma, M.shape[0], M.shape[1]) #確認のため truncateしていないSigmaを作成する．特異値集合からMxN対角行列を作成する．\n",
    "\n",
    "print(Sigma.shape)\n",
    "print(Sigma)"
   ]
  },
  {
   "cell_type": "code",
   "execution_count": 9,
   "metadata": {
    "collapsed": false,
    "scrolled": false
   },
   "outputs": [
    {
     "data": {
      "text/plain": [
       "0.00"
      ]
     },
     "execution_count": 9,
     "metadata": {},
     "output_type": "execute_result"
    }
   ],
   "source": [
    "M_r = np.dot(np.dot(U, Sigma), Vt) #分解した結果が本当にMと一致するのか確認 M = U x Sigma x V^T\n",
    "np.linalg.norm(M - M_r) # フロベニウスノルム"
   ]
  },
  {
   "cell_type": "markdown",
   "metadata": {},
   "source": [
    "# 低ランク近似"
   ]
  },
  {
   "cell_type": "code",
   "execution_count": 10,
   "metadata": {
    "collapsed": true
   },
   "outputs": [],
   "source": [
    "k = 2 #次元数"
   ]
  },
  {
   "cell_type": "code",
   "execution_count": 11,
   "metadata": {
    "collapsed": false
   },
   "outputs": [
    {
     "name": "stdout",
     "output_type": "stream",
     "text": [
      "U_k =\n",
      "[[ 0.44 -0.3 ]\n",
      " [ 0.13 -0.33]\n",
      " [ 0.48 -0.51]\n",
      " [ 0.7   0.35]\n",
      " [ 0.26  0.65]]\n",
      "Sigma_k=\n",
      "[[ 2.16  0.  ]\n",
      " [ 0.    1.59]]\n",
      "V_k^T =\n",
      "[[ 0.75  0.28  0.2   0.45  0.33  0.12]\n",
      " [-0.29 -0.53 -0.19  0.63  0.22  0.41]]\n"
     ]
    }
   ],
   "source": [
    "U_k = U[:, :k] #m-k行列にカット\n",
    "Vt_k = Vt[:k,:] #k-n行列にカット\n",
    "Sigma_k = Sigma[:k,:k] #特異値上位k個のみを用いる\n",
    "print(\"U_k =\"),\n",
    "print(U_k)\n",
    "print(\"Sigma_k=\")\n",
    "print(Sigma_k)\n",
    "print(\"V_k^T =\"),\n",
    "print(Vt_k)"
   ]
  },
  {
   "cell_type": "code",
   "execution_count": 12,
   "metadata": {
    "collapsed": false,
    "scrolled": false
   },
   "outputs": [
    {
     "name": "stdout",
     "output_type": "stream",
     "text": [
      "M_k=\n",
      "[[ 0.85  0.52  0.28  0.13  0.21 -0.08]\n",
      " [ 0.36  0.36  0.16 -0.21 -0.03 -0.18]\n",
      " [ 1.    0.72  0.36 -0.05  0.16 -0.21]\n",
      " [ 0.98  0.13  0.21  1.03  0.62  0.41]\n",
      " [ 0.13 -0.39 -0.08  0.9   0.41  0.49]]\n"
     ]
    },
    {
     "data": {
      "text/html": [
       "<div>\n",
       "<table border=\"1\" class=\"dataframe\">\n",
       "  <thead>\n",
       "    <tr style=\"text-align: right;\">\n",
       "      <th></th>\n",
       "      <th>d1</th>\n",
       "      <th>d2</th>\n",
       "      <th>d3</th>\n",
       "      <th>d4</th>\n",
       "      <th>d5</th>\n",
       "      <th>d6</th>\n",
       "    </tr>\n",
       "  </thead>\n",
       "  <tbody>\n",
       "    <tr>\n",
       "      <th>ship</th>\n",
       "      <td>0.85</td>\n",
       "      <td>0.52</td>\n",
       "      <td>0.28</td>\n",
       "      <td>0.13</td>\n",
       "      <td>0.21</td>\n",
       "      <td>-0.08</td>\n",
       "    </tr>\n",
       "    <tr>\n",
       "      <th>boat</th>\n",
       "      <td>0.36</td>\n",
       "      <td>0.36</td>\n",
       "      <td>0.16</td>\n",
       "      <td>-0.21</td>\n",
       "      <td>-0.03</td>\n",
       "      <td>-0.18</td>\n",
       "    </tr>\n",
       "    <tr>\n",
       "      <th>ocean</th>\n",
       "      <td>1.00</td>\n",
       "      <td>0.72</td>\n",
       "      <td>0.36</td>\n",
       "      <td>-0.05</td>\n",
       "      <td>0.16</td>\n",
       "      <td>-0.21</td>\n",
       "    </tr>\n",
       "    <tr>\n",
       "      <th>voyge</th>\n",
       "      <td>0.98</td>\n",
       "      <td>0.13</td>\n",
       "      <td>0.21</td>\n",
       "      <td>1.03</td>\n",
       "      <td>0.62</td>\n",
       "      <td>0.41</td>\n",
       "    </tr>\n",
       "    <tr>\n",
       "      <th>trip</th>\n",
       "      <td>0.13</td>\n",
       "      <td>-0.39</td>\n",
       "      <td>-0.08</td>\n",
       "      <td>0.90</td>\n",
       "      <td>0.41</td>\n",
       "      <td>0.49</td>\n",
       "    </tr>\n",
       "  </tbody>\n",
       "</table>\n",
       "</div>"
      ],
      "text/plain": [
       "         d1    d2    d3    d4    d5    d6\n",
       "ship   0.85  0.52  0.28  0.13  0.21 -0.08\n",
       "boat   0.36  0.36  0.16 -0.21 -0.03 -0.18\n",
       "ocean  1.00  0.72  0.36 -0.05  0.16 -0.21\n",
       "voyge  0.98  0.13  0.21  1.03  0.62  0.41\n",
       "trip   0.13 -0.39 -0.08  0.90  0.41  0.49"
      ]
     },
     "execution_count": 12,
     "metadata": {},
     "output_type": "execute_result"
    }
   ],
   "source": [
    "M_k = np.dot(np.dot(U_k, Sigma_k), Vt_k) #低ランク近似\n",
    "print(\"M_k=\")\n",
    "print(M_k)\n",
    "doc_names = [\"d1\", \"d2\", \"d3\", \"d4\", \"d5\", \"d6\"]\n",
    "term_names = [\"ship\", \"boat\", \"ocean\", \"voyge\", \"trip\"]\n",
    "df = pd.DataFrame(M_k, \n",
    "                  columns=doc_names, index=term_names) \n",
    "df"
   ]
  },
  {
   "cell_type": "code",
   "execution_count": 13,
   "metadata": {
    "collapsed": false
   },
   "outputs": [
    {
     "name": "stdout",
     "output_type": "stream",
     "text": [
      "|| M - M_k || = 1.66779328766\n",
      "Rank(M_k) = 2\n"
     ]
    }
   ],
   "source": [
    "print(\"|| M - M_k || =\", lg.norm(M-M_k)) # フロベニウスノルム\n",
    "print(\"Rank(M_k) =\", np.linalg.matrix_rank(M_k)) #ランク2の行列になっていることを確認"
   ]
  },
  {
   "cell_type": "code",
   "execution_count": 14,
   "metadata": {
    "collapsed": false
   },
   "outputs": [
    {
     "name": "stdout",
     "output_type": "stream",
     "text": [
      "2.78153445035\n",
      "2.78153445035\n"
     ]
    }
   ],
   "source": [
    "print(lg.norm(M-M_k)**2) # フロベニウスノルムの二乗が，k+1以降の特異値の平方和に等しいことを確認\n",
    "print(sum(map(lambda x: x ** 2, sigma[k:]))) # k+1以降の特異値の平方和"
   ]
  },
  {
   "cell_type": "markdown",
   "metadata": {},
   "source": [
    "# 文書ベクトルの次元削減\n",
    "\n",
    "$M_k = U_k \\Sigma_k V_t^T$\n",
    "\n",
    "$M_k$は$m\\times n$行列であった．これを，特徴-文書，つまり$k \\times n$行列で表現することを考える．\n",
    "\n",
    "両辺に左から$U_k^T$を掛けると， \n",
    "\n",
    "$U_k^T M_k  = \\Sigma_k V_k^T$ \n",
    "\n",
    "ここで，$U_k U_k^T=I$を利用した（$U$が正規直交行列のため）．\n",
    "\n",
    "$U_k^T M_k=D_k = ({\\bf d}_1^{(k)}, \\ldots, {\\bf d}_n^{(k)})$とおくと，\n",
    "\n",
    "$D_k = \\Sigma_k V_k^T  $\n",
    "\n",
    "${\\bf d}_i^{(k)}$を特徴空間上での文書ベクトルとして利用することができる．　なお， ${\\bf d}_{i}^{(k)} は {\\bf d}_{i}^{(k)} = U_k^T {\\bf d}_j$としても求められる．"
   ]
  },
  {
   "cell_type": "code",
   "execution_count": 15,
   "metadata": {
    "collapsed": false
   },
   "outputs": [
    {
     "name": "stdout",
     "output_type": "stream",
     "text": [
      "D_k=\n"
     ]
    },
    {
     "data": {
      "text/html": [
       "<div>\n",
       "<table border=\"1\" class=\"dataframe\">\n",
       "  <thead>\n",
       "    <tr style=\"text-align: right;\">\n",
       "      <th></th>\n",
       "      <th>d1</th>\n",
       "      <th>d2</th>\n",
       "      <th>d3</th>\n",
       "      <th>d4</th>\n",
       "      <th>d5</th>\n",
       "      <th>d6</th>\n",
       "    </tr>\n",
       "  </thead>\n",
       "  <tbody>\n",
       "    <tr>\n",
       "      <th>z1</th>\n",
       "      <td>1.62</td>\n",
       "      <td>0.60</td>\n",
       "      <td>0.44</td>\n",
       "      <td>0.97</td>\n",
       "      <td>0.70</td>\n",
       "      <td>0.26</td>\n",
       "    </tr>\n",
       "    <tr>\n",
       "      <th>z2</th>\n",
       "      <td>-0.46</td>\n",
       "      <td>-0.84</td>\n",
       "      <td>-0.30</td>\n",
       "      <td>1.00</td>\n",
       "      <td>0.35</td>\n",
       "      <td>0.65</td>\n",
       "    </tr>\n",
       "  </tbody>\n",
       "</table>\n",
       "</div>"
      ],
      "text/plain": [
       "      d1    d2    d3    d4    d5    d6\n",
       "z1  1.62  0.60  0.44  0.97  0.70  0.26\n",
       "z2 -0.46 -0.84 -0.30  1.00  0.35  0.65"
      ]
     },
     "execution_count": 15,
     "metadata": {},
     "output_type": "execute_result"
    }
   ],
   "source": [
    "D_k = np.dot(Sigma_k, Vt_k)\n",
    "D_k\n",
    "axis_names = [\"z1\", \"z2\"]\n",
    "doc_names = [\"d1\", \"d2\", \"d3\", \"d4\", \"d5\", \"d6\"]\n",
    "df = pd.DataFrame(D_k.T, \n",
    "                  columns=axis_names, index=doc_names) # np.r_ は行列同士の連結\n",
    "print(\"D_k=\")\n",
    "df.T"
   ]
  },
  {
   "cell_type": "code",
   "execution_count": 16,
   "metadata": {
    "collapsed": false,
    "scrolled": true
   },
   "outputs": [
    {
     "data": {
      "image/png": "[encoded data removed]",
      "text/plain": [
       "<matplotlib.figure.Figure at 0x118a29f98>"
      ]
     },
     "metadata": {},
     "output_type": "display_data"
    }
   ],
   "source": [
    "fig, ax = plt.subplots()\n",
    "df.plot.scatter(x=\"z1\", y=\"z2\", ax=ax)\n",
    "ax.axvline(x=0, lw=2, color='red') #x軸とy軸に線を引く\n",
    "ax.axhline(y=0, lw=2, color='red') \n",
    "ax.set_xlim(-0.5, 2.0)\n",
    "ax.set_ylim(-1.0, 1.5)\n",
    "ax.grid(True)\n",
    "for k, v in df.iterrows():\n",
    "    ax.annotate(k, xy=(v[0]+0.05,v[1]+0.05),size=15) #データ点にラベル名を付与"
   ]
  },
  {
   "cell_type": "markdown",
   "metadata": {},
   "source": [
    "文書$d1$と$d2$の特徴空間上での類似度を計算してみよう．"
   ]
  },
  {
   "cell_type": "code",
   "execution_count": 17,
   "metadata": {
    "collapsed": false
   },
   "outputs": [
    {
     "name": "stdout",
     "output_type": "stream",
     "text": [
      "特徴空間上でのコサイン類似度 = 0.781837380815\n",
      "M_k上での文書ベクトルのコサイン類似度 = 0.781837380815\n",
      "なお，元の文書ベクトル上でのコサイン類似度 = 0.408248290464\n"
     ]
    }
   ],
   "source": [
    "# d1とd2の特徴空間上での類似度を計算する\n",
    "print(\"特徴空間上でのコサイン類似度 =\",sim(D_k[:,0], D_k[:,1]))\n",
    "print(\"M_k上での文書ベクトルのコサイン類似度 =\", sim(M_k[:,0], M_k[:,1]))\n",
    "print(\"なお，元の文書ベクトル上でのコサイン類似度 =\", sim(M[:,0],M[:,1]))"
   ]
  },
  {
   "cell_type": "markdown",
   "metadata": {},
   "source": [
    "このように，次元削減された文書ベクトル$\\{{\\bf d}_i^{(k)}\\}$間のコサイン類似度が，低ランク近似された単語-文書行列$M_k$における文書ベクトル間のコサイン類似度と一致することが分かる．"
   ]
  },
  {
   "cell_type": "markdown",
   "metadata": {},
   "source": [
    "# クエリの特徴空間での表現\n",
    "\n",
    "いま，$m$次元クエリべトル${\\bf q}$が与えられたとき，特徴空間上でのベクトル表現${\\bf q}^{(k)}$は以下の式で得られる．\n",
    "\n",
    "${\\bf q}^{(k)} = U_k^T {\\bf q}$"
   ]
  },
  {
   "cell_type": "code",
   "execution_count": 18,
   "metadata": {
    "collapsed": false
   },
   "outputs": [
    {
     "data": {
      "text/plain": [
       "1.00"
      ]
     },
     "execution_count": 18,
     "metadata": {},
     "output_type": "execute_result"
    }
   ],
   "source": [
    "q = np.array([1,0,1,1,0]) #文書d1と同じものをクエリとして用いてみる\n",
    "q_k = np.dot(np.dot(lg.inv(Sigma_k),U_k.T), q)  #k次元特徴空間へ射影\n",
    "sim(np.dot(Sigma_k,q_k), D_k[:,0]) #文書d1との特徴空間上での類似度"
   ]
  },
  {
   "cell_type": "markdown",
   "metadata": {},
   "source": [
    "## 単語ベクトルの次元削減\n",
    "\n",
    "$M_k = U_k \\Sigma_k V_t^T$\n",
    "\n",
    "文書ベクトルと同様に，今度は両辺に右から$V_k$をかけると\n",
    "\n",
    "$M_k V_k = U_k \\Sigma_k$ （$V_k^T V_k=I$より)\n",
    "\n",
    "$U_k \\Sigma_k =T_k $とおくと，\n",
    "\n",
    "$T_k = U_k \\Sigma_k$  "
   ]
  },
  {
   "cell_type": "code",
   "execution_count": 19,
   "metadata": {
    "collapsed": false,
    "scrolled": true
   },
   "outputs": [
    {
     "data": {
      "text/html": [
       "<div>\n",
       "<table border=\"1\" class=\"dataframe\">\n",
       "  <thead>\n",
       "    <tr style=\"text-align: right;\">\n",
       "      <th></th>\n",
       "      <th>z1</th>\n",
       "      <th>z2</th>\n",
       "    </tr>\n",
       "  </thead>\n",
       "  <tbody>\n",
       "    <tr>\n",
       "      <th>ship</th>\n",
       "      <td>0.95</td>\n",
       "      <td>-0.47</td>\n",
       "    </tr>\n",
       "    <tr>\n",
       "      <th>boat</th>\n",
       "      <td>0.28</td>\n",
       "      <td>-0.53</td>\n",
       "    </tr>\n",
       "    <tr>\n",
       "      <th>ocean</th>\n",
       "      <td>1.03</td>\n",
       "      <td>-0.81</td>\n",
       "    </tr>\n",
       "    <tr>\n",
       "      <th>voyge</th>\n",
       "      <td>1.52</td>\n",
       "      <td>0.56</td>\n",
       "    </tr>\n",
       "    <tr>\n",
       "      <th>trip</th>\n",
       "      <td>0.57</td>\n",
       "      <td>1.03</td>\n",
       "    </tr>\n",
       "  </tbody>\n",
       "</table>\n",
       "</div>"
      ],
      "text/plain": [
       "         z1    z2\n",
       "ship   0.95 -0.47\n",
       "boat   0.28 -0.53\n",
       "ocean  1.03 -0.81\n",
       "voyge  1.52  0.56\n",
       "trip   0.57  1.03"
      ]
     },
     "execution_count": 19,
     "metadata": {},
     "output_type": "execute_result"
    }
   ],
   "source": [
    "T_k  = np.dot(U_k, Sigma_k)\n",
    "axis_names = [\"z1\", \"z2\"]\n",
    "term_names = [\"ship\", \"boat\", \"ocean\", \"voyge\", \"trip\"]\n",
    "df = pd.DataFrame(T_k, \n",
    "                  columns=axis_names, index=term_names) # np.r_ は行列同士の連結\n",
    "df"
   ]
  },
  {
   "cell_type": "markdown",
   "metadata": {},
   "source": [
    "$T$の$i$行目と$j$行目がそれぞれ単語$i，j$の特徴空間上でのベクトル表現になる"
   ]
  },
  {
   "cell_type": "code",
   "execution_count": 20,
   "metadata": {
    "collapsed": false
   },
   "outputs": [
    {
     "data": {
      "image/png": "[encoded data removed]",
      "text/plain": [
       "<matplotlib.figure.Figure at 0x122127710>"
      ]
     },
     "metadata": {},
     "output_type": "display_data"
    }
   ],
   "source": [
    "# 特徴空間上の単語ベクトルをプロット\n",
    "fig, ax = plt.subplots()\n",
    "df.plot.scatter(x=\"z1\", y=\"z2\", ax=ax)\n",
    "ax.axvline(x=0, lw=2, color='red') #x軸とy軸に線を引く\n",
    "ax.axhline(y=0, lw=2, color='red') \n",
    "ax.set_xlim(-0.5, 2.0)\n",
    "ax.set_ylim(-1.0, 1.5)\n",
    "ax.grid(True)\n",
    "for k, v in df.iterrows():\n",
    "    ax.annotate(k, xy=(v[0]+0.05,v[1]+0.05),size=15) #データ点にラベル名を付与"
   ]
  },
  {
   "cell_type": "code",
   "execution_count": 21,
   "metadata": {
    "collapsed": false,
    "scrolled": true
   },
   "outputs": [
    {
     "name": "stdout",
     "output_type": "stream",
     "text": [
      "k次元特徴空間での類似度\n",
      "sim(ship, boat) = 0.811763741002\n",
      "元の空間での類似度\n",
      "sim(ship, boat) = 0.0\n"
     ]
    }
   ],
   "source": [
    "t_1 = T_k[0,:] #ship\n",
    "t_2 = T_k[1,:] #boat\n",
    "\n",
    "print(\"k次元特徴空間での類似度\")\n",
    "print(\"sim(ship, boat) =\", sim(t_1, t_2))\n",
    "print(\"元の空間での類似度\")\n",
    "print(\"sim(ship, boat) =\", sim(M[0,:], M[1,:]))"
   ]
  },
  {
   "cell_type": "markdown",
   "metadata": {},
   "source": [
    "このように，元の単語-文書行列における単語ベクトルでは類似度が0であった単語間に対して高い類似度を与えることができていることが分かる．"
   ]
  }
 ],
 "metadata": {
  "kernelspec": {
   "display_name": "Python 3",
   "language": "python",
   "name": "python3"
  },
  "language_info": {
   "codemirror_mode": {
    "name": "ipython",
    "version": 3
   },
   "file_extension": ".py",
   "mimetype": "text/x-python",
   "name": "python",
   "nbconvert_exporter": "python",
   "pygments_lexer": "ipython3",
   "version": "3.5.4"
  }
 },
 "nbformat": 4,
 "nbformat_minor": 0
}
