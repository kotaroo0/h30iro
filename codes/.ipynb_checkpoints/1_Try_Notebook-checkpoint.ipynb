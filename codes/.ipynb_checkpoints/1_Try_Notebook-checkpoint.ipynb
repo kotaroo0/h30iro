{
 "cells": [
  {
   "cell_type": "markdown",
   "metadata": {},
   "source": [
    "# 第1回 Jupyter notebookに慣れる\n",
    "- 参考文献: [IPython データサイエンスクックブック，オライリー社](https://www.oreilly.co.jp/books/9784873117485/)\n",
    "\n",
    "## 1. IPythonとJupyterとは\n",
    "\n",
    "### IPython\n",
    "IPythonはPythonを対話的に動作させるためのプラットフォームです．たとえばある文を入力した直後に結果を確認するといったように，インタラクティブに結果を確認しながらプログラミングしていくことができます．\n",
    "\n",
    "### Jupyter notebookとは\n",
    "IPythonをWebベースで実行するためのプラットフォームです．ソースコードを書くだけでなく，その場で結果を表示したり，一般的なテキストや画像，HTMLなどを１つのページ内に混在させることができます．"
   ]
  },
  {
   "cell_type": "markdown",
   "metadata": {},
   "source": [
    "## 2. notebookを実行してみよう\n",
    "この演習では，時間の都合上notebookやPythonの詳しい使い方については説明しません（もちろん個別にサポートします）．詳細な使い方はWebや参考書で各自勉強することをお勧めします．\n",
    "\n",
    "取り急ぎ，notebookを体験してみるということで， Hello World プログラムを実行してみましょう．  \n",
    "\n",
    "notebookを開始するには，ターミナルで以下のコマンドを入力します．\n",
    "\n",
    "```\n",
    "ipython notebook\n",
    "```\n",
    "\n",
    "notebookを開始したら，新しいファイルを作成し，セルと呼ばれる領域に，次の式を入力し，Shift+Enterを押してみてください．"
   ]
  },
  {
   "cell_type": "code",
   "execution_count": 1,
   "metadata": {
    "collapsed": false
   },
   "outputs": [
    {
     "name": "stdout",
     "output_type": "stream",
     "text": [
      "Hello, World\n",
      "14\n"
     ]
    }
   ],
   "source": [
    "print (\"Hello\" + \", World\")\n",
    "print(10 + 4)"
   ]
  },
  {
   "cell_type": "markdown",
   "metadata": {},
   "source": [
    "正しく動作すれば，画面に\n",
    "\n",
    "```python\n",
    "Hello, World\n",
    "14\n",
    "```\n",
    "\n",
    "と表示されたはずです．このように，IPython + Jupyter notebook 環境では，Webベースで対話的に実行結果を確認しながらプログラミングをすることができます．"
   ]
  },
  {
   "cell_type": "markdown",
   "metadata": {},
   "source": [
    "## 3. numpy + matplotlib チュートリアル\n",
    "それでは，IPython + Jupyter notebook環境に慣れるという目的で，以下のコードを自分のNotebook環境で入力しながら，このページと同じような結果が得られるか確認してみましょう． このチュートリアルは，異なる種類の確率分布から得られたデータを散布図として表示するというプログラムになっています． 実際にコードを実行しながら， python および notebook の雰囲気に慣れてください．"
   ]
  },
  {
   "cell_type": "code",
   "execution_count": 2,
   "metadata": {
    "collapsed": false
   },
   "outputs": [],
   "source": [
    "import numpy as np # numpy モジュールのインポート\n",
    "import matplotlib.pyplot as plt # pyplotモジュールのインポート"
   ]
  },
  {
   "cell_type": "code",
   "execution_count": 3,
   "metadata": {
    "collapsed": false
   },
   "outputs": [],
   "source": [
    "%matplotlib inline"
   ]
  },
  {
   "cell_type": "code",
   "execution_count": 4,
   "metadata": {
    "collapsed": false
   },
   "outputs": [],
   "source": [
    "# 平均 x = -2, y = -2 の2変量正規分布からデータを100個サンプリングする\n",
    "mean = [-2,-2]\n",
    "cov = [[1,0],[0,1]]\n",
    "x1,y1 = np.random.multivariate_normal(mean, cov, 100).T"
   ]
  },
  {
   "cell_type": "code",
   "execution_count": 5,
   "metadata": {
    "collapsed": false
   },
   "outputs": [
    {
     "data": {
      "text/plain": [
       "(array([-3.97624299, -2.17401958, -3.37789811, -1.96820567, -1.8974589 ,\n",
       "        -1.87691603, -0.10033601,  0.09274902, -0.33809031, -1.55257427]),\n",
       " array([-1.32558028, -1.52988729, -1.36387475, -2.77620137,  0.09594346,\n",
       "        -1.65903102, -1.7633602 , -2.28482762, -2.34014766, -0.32884458]))"
      ]
     },
     "execution_count": 5,
     "metadata": {},
     "output_type": "execute_result"
    }
   ],
   "source": [
    "# サンプリングしたデータの xとy の値 10件を確認してみる\n",
    "x1[:10], y1[:10]"
   ]
  },
  {
   "cell_type": "code",
   "execution_count": 6,
   "metadata": {
    "collapsed": false
   },
   "outputs": [
    {
     "data": {
      "text/plain": [
       "<matplotlib.collections.PathCollection at 0x1157fe2e8>"
      ]
     },
     "execution_count": 6,
     "metadata": {},
     "output_type": "execute_result"
    },
    {
     "data": {
      "image/png": "[encoded data removed]",
      "text/plain": [
       "<matplotlib.figure.Figure at 0x1156c1518>"
      ]
     },
     "metadata": {},
     "output_type": "display_data"
    }
   ],
   "source": [
    "# 今サンプリングしたデータを散布図で確認\n",
    "plt.scatter(x1, y1, color=\"r\", label=\"d1\")"
   ]
  },
  {
   "cell_type": "code",
   "execution_count": 7,
   "metadata": {
    "collapsed": true
   },
   "outputs": [],
   "source": [
    "# 同様に 平均 x=2, y=2 のガウス分布から100個データをサンプリング\n",
    "mean2 = [2,2]\n",
    "cov2 = [[1,0],[0,1]]\n",
    "x2,y2 = np.random.multivariate_normal(mean2, cov2, 100).T"
   ]
  },
  {
   "cell_type": "code",
   "execution_count": 8,
   "metadata": {
    "collapsed": false,
    "scrolled": false
   },
   "outputs": [
    {
     "data": {
      "text/plain": [
       "<matplotlib.collections.PathCollection at 0x11586e5c0>"
      ]
     },
     "execution_count": 8,
     "metadata": {},
     "output_type": "execute_result"
    },
    {
     "data": {
      "image/png": "[encoded data removed]",
      "text/plain": [
       "<matplotlib.figure.Figure at 0x1157fed30>"
      ]
     },
     "metadata": {},
     "output_type": "display_data"
    }
   ],
   "source": [
    "plt.scatter(x2,y2, c=\"b\", marker=\"x\", label=\"d2\")"
   ]
  },
  {
   "cell_type": "code",
   "execution_count": 9,
   "metadata": {
    "collapsed": false,
    "scrolled": true
   },
   "outputs": [
    {
     "data": {
      "image/png": "[encoded data removed]",
      "text/plain": [
       "<matplotlib.figure.Figure at 0x119244898>"
      ]
     },
     "metadata": {},
     "output_type": "display_data"
    }
   ],
   "source": [
    "# 両方のデータを1つの散布図で表示する\n",
    "plt.scatter(x1,y1, c=\"r\", label=\"d1\")\n",
    "plt.scatter(x2,y2, c=\"b\", marker=\"x\", label=\"d2\")\n",
    "plt.grid(True) # 枠線をつけてみる\n",
    "plt.legend() # 凡例をつけてみる\n",
    "plt.show()"
   ]
  },
  {
   "cell_type": "markdown",
   "metadata": {},
   "source": [
    "いかがでしょうか？恐らくPythonに慣れてない人には何をやっているのかサッパりだと思いますが，Python（および周辺ライブラリ）について学んでいくうちに，それぞれのプログラムの意味は分かると思います．このチュートリアルでは，対話的にプログラムを実行できるこの環境について慣れてもらえればと思います．"
   ]
  }
 ],
 "metadata": {
  "kernelspec": {
   "display_name": "Python 3",
   "language": "python",
   "name": "python3"
  },
  "language_info": {
   "codemirror_mode": {
    "name": "ipython",
    "version": 3
   },
   "file_extension": ".py",
   "mimetype": "text/x-python",
   "name": "python",
   "nbconvert_exporter": "python",
   "pygments_lexer": "ipython3",
   "version": "3.5.4"
  }
 },
 "nbformat": 4,
 "nbformat_minor": 0
}
